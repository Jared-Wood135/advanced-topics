{
 "cells": [
  {
   "cell_type": "markdown",
   "id": "067c6c6b",
   "metadata": {},
   "source": [
    "<div style='background-color:orange'>\n",
    "<a id=\"TableOfContents\"></a>\n",
    "    <h1 style='text-align:center ; top-padding:5px'>\n",
    "        <b><i>\n",
    "            TABLE OF CONTENTS:\n",
    "        </i></b></h1>\n",
    "    <li><a href='#imports'>Imports</a>\n",
    "    <li><a href=\"#lecture\">Lecture Portion</a>\n",
    "    <li><a href='#dtc'>DTC</a>\n",
    "    <li><a href=\"#rfc\">RFC</a>\n",
    "    <li><a href='#knn'>KNN</a>\n",
    "    <li><a href='#lr'>LR</a>\n",
    "    <li><a href='#misc'>Miscellaneous</a>\n",
    "    </li>\n",
    "</div>"
   ]
  },
  {
   "cell_type": "markdown",
   "id": "793b55d6",
   "metadata": {},
   "source": [
    "<div style='background-color:orange'>\n",
    "<a id=\"imports\"></a>\n",
    "    <h1 style='text-align:center ; top-padding:5px'>\n",
    "        <b><i>\n",
    "            Imports\n",
    "        </i></b></h1>\n",
    "    <li><a href='#TableOfContents'>Table of Contents</a>\n",
    "    </li>\n",
    "</div>"
   ]
  },
  {
   "cell_type": "code",
   "execution_count": 1,
   "id": "beb5f3e4",
   "metadata": {},
   "outputs": [],
   "source": [
    "# Vectorization and tables\n",
    "import numpy as np\n",
    "import pandas as pd\n",
    "\n",
    "# Visualization\n",
    "import matplotlib.pyplot as plt\n",
    "import seaborn as sns\n",
    "\n",
    "# sklearn stuff\n",
    "from sklearn.model_selection import train_test_split, cross_val_score, GridSearchCV\n",
    "from sklearn.tree import DecisionTreeClassifier\n",
    "from sklearn.neighbors import KNeighborsClassifier\n",
    "from sklearn.linear_model import LogisticRegression\n",
    "from sklearn.preprocessing import LabelEncoder\n",
    "\n",
    "# .py files\n",
    "import wrangle as w\n",
    "import env"
   ]
  },
  {
   "cell_type": "markdown",
   "id": "84cd970a",
   "metadata": {},
   "source": [
    "<div style='background-color:orange'>\n",
    "<a id=\"lecture\"></a>\n",
    "    <h1 style='text-align:center ; top-padding:5px'>\n",
    "        <b><i>\n",
    "            Lecture Portion\n",
    "        </i></b></h1>\n",
    "    <li><a href='#TableOfContents'>Table of Contents</a>\n",
    "    </li>\n",
    "</div>"
   ]
  },
  {
   "cell_type": "code",
   "execution_count": 2,
   "id": "d0df65b5",
   "metadata": {},
   "outputs": [
    {
     "name": "stdout",
     "output_type": "stream",
     "text": [
      "<class 'pandas.core.frame.DataFrame'>\n",
      "RangeIndex: 297899 entries, 0 to 297898\n",
      "Data columns (total 8 columns):\n",
      " #   Column   Non-Null Count   Dtype \n",
      "---  ------   --------------   ----- \n",
      " 0   price    297899 non-null  int64 \n",
      " 1   year     297899 non-null  int64 \n",
      " 2   mileage  297899 non-null  int64 \n",
      " 3   city     297899 non-null  object\n",
      " 4   state    297899 non-null  object\n",
      " 5   vin      297899 non-null  object\n",
      " 6   make     297899 non-null  object\n",
      " 7   model    297899 non-null  object\n",
      "dtypes: int64(3), object(5)\n",
      "memory usage: 18.2+ MB\n"
     ]
    }
   ],
   "source": [
    "# Load the cars.csv data\n",
    "cars = pd.read_csv('cars.csv')\n",
    "cars.info()"
   ]
  },
  {
   "cell_type": "code",
   "execution_count": 3,
   "id": "9088373e",
   "metadata": {
    "scrolled": false
   },
   "outputs": [
    {
     "data": {
      "text/plain": [
       "make     model          year\n",
       "AM       General        1997     62489.250000\n",
       "                        1998     47499.500000\n",
       "                        1999     48097.500000\n",
       "                        2000     58658.142857\n",
       "                        2001     71748.000000\n",
       "                                    ...      \n",
       "Porsche  PanameraTurbo  2013     72924.000000\n",
       "                        2014     81624.333333\n",
       "                        2015     88990.000000\n",
       "                        2017    148993.333333\n",
       "         Panamerabase   2013     43296.833333\n",
       "Name: price, Length: 5833, dtype: float64"
      ]
     },
     "execution_count": 3,
     "metadata": {},
     "output_type": "execute_result"
    }
   ],
   "source": [
    "# Which cars have sold high?\n",
    "cars.groupby(['make', 'model', 'year']).price.mean()"
   ]
  },
  {
   "cell_type": "code",
   "execution_count": 4,
   "id": "730abfdf",
   "metadata": {},
   "outputs": [
    {
     "data": {
      "text/plain": [
       "255755    17757.925532\n",
       "Name: mean_price, dtype: float64"
      ]
     },
     "execution_count": 4,
     "metadata": {},
     "output_type": "execute_result"
    }
   ],
   "source": [
    "# Attach mean price to respective groups\n",
    "cars['mean_price'] = cars.groupby(['make', 'model', 'year']).price.transform('mean')\n",
    "cars.mean_price.sample()"
   ]
  },
  {
   "cell_type": "code",
   "execution_count": 5,
   "id": "e7a6be9c",
   "metadata": {},
   "outputs": [
    {
     "data": {
      "text/plain": [
       "0    0.532127\n",
       "1    0.467873\n",
       "Name: sold_high, dtype: float64"
      ]
     },
     "execution_count": 5,
     "metadata": {},
     "output_type": "execute_result"
    }
   ],
   "source": [
    "# Identify which cars sold high\n",
    "cars['sold_high'] = (cars.price > cars['mean_price']).astype(int)\n",
    "cars.sold_high.value_counts(normalize=True)"
   ]
  },
  {
   "cell_type": "code",
   "execution_count": 6,
   "id": "183707d7",
   "metadata": {},
   "outputs": [],
   "source": [
    "# Identify number columns\n",
    "num_feats = [col for col in cars.columns if (np.issubdtype(cars[col], np.number) and cars[col].nunique() > 25)]\n",
    "num_feats.remove('mean_price')"
   ]
  },
  {
   "cell_type": "code",
   "execution_count": 7,
   "id": "d190ee89",
   "metadata": {},
   "outputs": [],
   "source": [
    "# Remove city, vin, mean_price, price\n",
    "cars = cars.drop(columns=['city', 'vin', 'mean_price', 'price'])"
   ]
  },
  {
   "cell_type": "code",
   "execution_count": 8,
   "id": "19153613",
   "metadata": {},
   "outputs": [
    {
     "data": {
      "text/plain": [
       "['year', 'state', 'make', 'model', 'sold_high']"
      ]
     },
     "execution_count": 8,
     "metadata": {},
     "output_type": "execute_result"
    }
   ],
   "source": [
    "# Identify categorical columns\n",
    "cat_cols = [col for col in cars.columns if col not in num_feats]\n",
    "cat_cols"
   ]
  },
  {
   "cell_type": "code",
   "execution_count": 9,
   "id": "80df3656",
   "metadata": {},
   "outputs": [],
   "source": [
    "cat_cols.remove('sold_high')"
   ]
  },
  {
   "cell_type": "code",
   "execution_count": 10,
   "id": "48719f12",
   "metadata": {},
   "outputs": [],
   "source": [
    "for col in ['state', 'make', 'model']:\n",
    "    encoder = LabelEncoder()\n",
    "    cars[col] = encoder.fit_transform(cars[col])"
   ]
  },
  {
   "cell_type": "code",
   "execution_count": 11,
   "id": "43c767d2",
   "metadata": {},
   "outputs": [
    {
     "data": {
      "text/html": [
       "<div>\n",
       "<style scoped>\n",
       "    .dataframe tbody tr th:only-of-type {\n",
       "        vertical-align: middle;\n",
       "    }\n",
       "\n",
       "    .dataframe tbody tr th {\n",
       "        vertical-align: top;\n",
       "    }\n",
       "\n",
       "    .dataframe thead th {\n",
       "        text-align: right;\n",
       "    }\n",
       "</style>\n",
       "<table border=\"1\" class=\"dataframe\">\n",
       "  <thead>\n",
       "    <tr style=\"text-align: right;\">\n",
       "      <th></th>\n",
       "      <th>year</th>\n",
       "      <th>mileage</th>\n",
       "      <th>state</th>\n",
       "      <th>make</th>\n",
       "      <th>model</th>\n",
       "      <th>sold_high</th>\n",
       "    </tr>\n",
       "  </thead>\n",
       "  <tbody>\n",
       "    <tr>\n",
       "      <th>0</th>\n",
       "      <td>2015</td>\n",
       "      <td>18681</td>\n",
       "      <td>28</td>\n",
       "      <td>7</td>\n",
       "      <td>523</td>\n",
       "      <td>0</td>\n",
       "    </tr>\n",
       "    <tr>\n",
       "      <th>1</th>\n",
       "      <td>2015</td>\n",
       "      <td>27592</td>\n",
       "      <td>19</td>\n",
       "      <td>7</td>\n",
       "      <td>525</td>\n",
       "      <td>0</td>\n",
       "    </tr>\n",
       "    <tr>\n",
       "      <th>2</th>\n",
       "      <td>2015</td>\n",
       "      <td>13650</td>\n",
       "      <td>32</td>\n",
       "      <td>7</td>\n",
       "      <td>526</td>\n",
       "      <td>0</td>\n",
       "    </tr>\n",
       "    <tr>\n",
       "      <th>3</th>\n",
       "      <td>2015</td>\n",
       "      <td>25195</td>\n",
       "      <td>22</td>\n",
       "      <td>7</td>\n",
       "      <td>525</td>\n",
       "      <td>0</td>\n",
       "    </tr>\n",
       "    <tr>\n",
       "      <th>4</th>\n",
       "      <td>2015</td>\n",
       "      <td>22800</td>\n",
       "      <td>38</td>\n",
       "      <td>7</td>\n",
       "      <td>523</td>\n",
       "      <td>0</td>\n",
       "    </tr>\n",
       "  </tbody>\n",
       "</table>\n",
       "</div>"
      ],
      "text/plain": [
       "   year  mileage  state  make  model  sold_high\n",
       "0  2015    18681     28     7    523          0\n",
       "1  2015    27592     19     7    525          0\n",
       "2  2015    13650     32     7    526          0\n",
       "3  2015    25195     22     7    525          0\n",
       "4  2015    22800     38     7    523          0"
      ]
     },
     "execution_count": 11,
     "metadata": {},
     "output_type": "execute_result"
    }
   ],
   "source": [
    "cars.head()"
   ]
  },
  {
   "cell_type": "code",
   "execution_count": 12,
   "id": "2b3667ec",
   "metadata": {},
   "outputs": [],
   "source": [
    "# Using cross-validation score:\n",
    "# Split into train and test:\n",
    "X, y = cars.drop(columns='sold_high'), cars[['sold_high']]"
   ]
  },
  {
   "cell_type": "code",
   "execution_count": 13,
   "id": "97cbf4bd",
   "metadata": {},
   "outputs": [],
   "source": [
    "X_train, X_test, y_train, y_test = train_test_split(X, y, train_size=0.8, random_state=1349)"
   ]
  },
  {
   "cell_type": "code",
   "execution_count": 16,
   "id": "5456a19f",
   "metadata": {},
   "outputs": [
    {
     "data": {
      "text/plain": [
       "((238319, 5), (59580, 5), (238319, 1), (59580, 1))"
      ]
     },
     "execution_count": 16,
     "metadata": {},
     "output_type": "execute_result"
    }
   ],
   "source": [
    "X_train.shape, X_test.shape, y_train.shape, y_test.shape"
   ]
  },
  {
   "cell_type": "code",
   "execution_count": 18,
   "id": "2fc08ebd",
   "metadata": {},
   "outputs": [
    {
     "data": {
      "text/plain": [
       "array([0.63843152, 0.63429003, 0.63806191])"
      ]
     },
     "execution_count": 18,
     "metadata": {},
     "output_type": "execute_result"
    }
   ],
   "source": [
    "# model object is what we need to proceed\n",
    "# let's make one of those\n",
    "dtc = DecisionTreeClassifier(max_depth=4)\n",
    "# note we are not fitting this model on our\n",
    "# training set before we feed it into\n",
    "# cross_val score the function is splitting\n",
    "cross_val_score(dtc, X_train, y_train, cv=3)"
   ]
  },
  {
   "cell_type": "code",
   "execution_count": 19,
   "id": "63e9ce1f",
   "metadata": {},
   "outputs": [],
   "source": [
    "# Let's do a grid-search\n",
    "# Define a parameter grid\n",
    "# a parameter grid will be a dictionary\n",
    "# of whatever hyperparameters that you want to use\n",
    "# For a DTC, it'll look like this\n",
    "param_grid = {\n",
    "    'max_depth' : [None, 10, 4, 3, 2],\n",
    "    'min_samples_leaf' : [1, 3, 5, 20],\n",
    "    'criterion' : ['gini', 'entropy']\n",
    "}\n",
    "gsearch = GridSearchCV(DecisionTreeClassifier(),\n",
    "                      param_grid)"
   ]
  },
  {
   "cell_type": "code",
   "execution_count": 21,
   "id": "8550ebda",
   "metadata": {},
   "outputs": [
    {
     "data": {
      "text/plain": [
       "GridSearchCV(estimator=DecisionTreeClassifier(),\n",
       "             param_grid={'criterion': ['gini', 'entropy'],\n",
       "                         'max_depth': [None, 10, 4, 3, 2],\n",
       "                         'min_samples_leaf': [1, 3, 5, 20]})"
      ]
     },
     "execution_count": 21,
     "metadata": {},
     "output_type": "execute_result"
    }
   ],
   "source": [
    "gsearch"
   ]
  },
  {
   "cell_type": "code",
   "execution_count": 22,
   "id": "caf84f5e",
   "metadata": {},
   "outputs": [
    {
     "data": {
      "text/plain": [
       "GridSearchCV(estimator=DecisionTreeClassifier(),\n",
       "             param_grid={'criterion': ['gini', 'entropy'],\n",
       "                         'max_depth': [None, 10, 4, 3, 2],\n",
       "                         'min_samples_leaf': [1, 3, 5, 20]})"
      ]
     },
     "execution_count": 22,
     "metadata": {},
     "output_type": "execute_result"
    }
   ],
   "source": [
    "gsearch.fit(X_train, y_train)"
   ]
  },
  {
   "cell_type": "code",
   "execution_count": 24,
   "id": "62dd712f",
   "metadata": {},
   "outputs": [],
   "source": [
    "results = gsearch.cv_results_"
   ]
  },
  {
   "cell_type": "code",
   "execution_count": 25,
   "id": "e13d3b0e",
   "metadata": {},
   "outputs": [
    {
     "data": {
      "text/plain": [
       "dict_keys(['mean_fit_time', 'std_fit_time', 'mean_score_time', 'std_score_time', 'param_criterion', 'param_max_depth', 'param_min_samples_leaf', 'params', 'split0_test_score', 'split1_test_score', 'split2_test_score', 'split3_test_score', 'split4_test_score', 'mean_test_score', 'std_test_score', 'rank_test_score'])"
      ]
     },
     "execution_count": 25,
     "metadata": {},
     "output_type": "execute_result"
    }
   ],
   "source": [
    "results.keys()"
   ]
  },
  {
   "cell_type": "code",
   "execution_count": 27,
   "id": "4961d02d",
   "metadata": {},
   "outputs": [
    {
     "data": {
      "text/plain": [
       "(40, 16)"
      ]
     },
     "execution_count": 27,
     "metadata": {},
     "output_type": "execute_result"
    }
   ],
   "source": [
    "results_df_init = pd.DataFrame(results)\n",
    "results_df_init.shape"
   ]
  },
  {
   "cell_type": "code",
   "execution_count": 31,
   "id": "b19cab83",
   "metadata": {},
   "outputs": [
    {
     "data": {
      "text/html": [
       "<div>\n",
       "<style scoped>\n",
       "    .dataframe tbody tr th:only-of-type {\n",
       "        vertical-align: middle;\n",
       "    }\n",
       "\n",
       "    .dataframe tbody tr th {\n",
       "        vertical-align: top;\n",
       "    }\n",
       "\n",
       "    .dataframe thead th {\n",
       "        text-align: right;\n",
       "    }\n",
       "</style>\n",
       "<table border=\"1\" class=\"dataframe\">\n",
       "  <thead>\n",
       "    <tr style=\"text-align: right;\">\n",
       "      <th></th>\n",
       "      <th>criterion</th>\n",
       "      <th>max_depth</th>\n",
       "      <th>min_samples_leaf</th>\n",
       "    </tr>\n",
       "  </thead>\n",
       "  <tbody>\n",
       "    <tr>\n",
       "      <th>0</th>\n",
       "      <td>gini</td>\n",
       "      <td>NaN</td>\n",
       "      <td>1</td>\n",
       "    </tr>\n",
       "    <tr>\n",
       "      <th>1</th>\n",
       "      <td>gini</td>\n",
       "      <td>NaN</td>\n",
       "      <td>3</td>\n",
       "    </tr>\n",
       "  </tbody>\n",
       "</table>\n",
       "</div>"
      ],
      "text/plain": [
       "  criterion  max_depth  min_samples_leaf\n",
       "0      gini        NaN                 1\n",
       "1      gini        NaN                 3"
      ]
     },
     "execution_count": 31,
     "metadata": {},
     "output_type": "execute_result"
    }
   ],
   "source": [
    "params = pd.DataFrame(results['params'])\n",
    "params.head(2)"
   ]
  },
  {
   "cell_type": "code",
   "execution_count": 32,
   "id": "55e7f634",
   "metadata": {},
   "outputs": [
    {
     "data": {
      "text/html": [
       "<div>\n",
       "<style scoped>\n",
       "    .dataframe tbody tr th:only-of-type {\n",
       "        vertical-align: middle;\n",
       "    }\n",
       "\n",
       "    .dataframe tbody tr th {\n",
       "        vertical-align: top;\n",
       "    }\n",
       "\n",
       "    .dataframe thead th {\n",
       "        text-align: right;\n",
       "    }\n",
       "</style>\n",
       "<table border=\"1\" class=\"dataframe\">\n",
       "  <thead>\n",
       "    <tr style=\"text-align: right;\">\n",
       "      <th></th>\n",
       "      <th>mean_fit_time</th>\n",
       "      <th>std_fit_time</th>\n",
       "      <th>mean_score_time</th>\n",
       "      <th>std_score_time</th>\n",
       "      <th>param_criterion</th>\n",
       "      <th>param_max_depth</th>\n",
       "      <th>param_min_samples_leaf</th>\n",
       "      <th>params</th>\n",
       "      <th>split0_test_score</th>\n",
       "      <th>split1_test_score</th>\n",
       "      <th>split2_test_score</th>\n",
       "      <th>split3_test_score</th>\n",
       "      <th>split4_test_score</th>\n",
       "      <th>mean_test_score</th>\n",
       "      <th>std_test_score</th>\n",
       "      <th>rank_test_score</th>\n",
       "    </tr>\n",
       "  </thead>\n",
       "  <tbody>\n",
       "    <tr>\n",
       "      <th>0</th>\n",
       "      <td>0.867858</td>\n",
       "      <td>0.033409</td>\n",
       "      <td>0.020674</td>\n",
       "      <td>0.001398</td>\n",
       "      <td>gini</td>\n",
       "      <td>None</td>\n",
       "      <td>1</td>\n",
       "      <td>{'criterion': 'gini', 'max_depth': None, 'min_...</td>\n",
       "      <td>0.616713</td>\n",
       "      <td>0.615727</td>\n",
       "      <td>0.612999</td>\n",
       "      <td>0.617447</td>\n",
       "      <td>0.617922</td>\n",
       "      <td>0.616162</td>\n",
       "      <td>0.001746</td>\n",
       "      <td>32</td>\n",
       "    </tr>\n",
       "    <tr>\n",
       "      <th>1</th>\n",
       "      <td>0.807179</td>\n",
       "      <td>0.011104</td>\n",
       "      <td>0.018062</td>\n",
       "      <td>0.000850</td>\n",
       "      <td>gini</td>\n",
       "      <td>None</td>\n",
       "      <td>3</td>\n",
       "      <td>{'criterion': 'gini', 'max_depth': None, 'min_...</td>\n",
       "      <td>0.622063</td>\n",
       "      <td>0.622650</td>\n",
       "      <td>0.621287</td>\n",
       "      <td>0.623846</td>\n",
       "      <td>0.623670</td>\n",
       "      <td>0.622703</td>\n",
       "      <td>0.000966</td>\n",
       "      <td>29</td>\n",
       "    </tr>\n",
       "  </tbody>\n",
       "</table>\n",
       "</div>"
      ],
      "text/plain": [
       "   mean_fit_time  std_fit_time  mean_score_time  std_score_time  \\\n",
       "0       0.867858      0.033409         0.020674        0.001398   \n",
       "1       0.807179      0.011104         0.018062        0.000850   \n",
       "\n",
       "  param_criterion param_max_depth param_min_samples_leaf  \\\n",
       "0            gini            None                      1   \n",
       "1            gini            None                      3   \n",
       "\n",
       "                                              params  split0_test_score  \\\n",
       "0  {'criterion': 'gini', 'max_depth': None, 'min_...           0.616713   \n",
       "1  {'criterion': 'gini', 'max_depth': None, 'min_...           0.622063   \n",
       "\n",
       "   split1_test_score  split2_test_score  split3_test_score  split4_test_score  \\\n",
       "0           0.615727           0.612999           0.617447           0.617922   \n",
       "1           0.622650           0.621287           0.623846           0.623670   \n",
       "\n",
       "   mean_test_score  std_test_score  rank_test_score  \n",
       "0         0.616162        0.001746               32  \n",
       "1         0.622703        0.000966               29  "
      ]
     },
     "execution_count": 32,
     "metadata": {},
     "output_type": "execute_result"
    }
   ],
   "source": [
    "results_df_init.head(2)"
   ]
  },
  {
   "cell_type": "code",
   "execution_count": 40,
   "id": "4ab813e7",
   "metadata": {},
   "outputs": [
    {
     "data": {
      "text/html": [
       "<div>\n",
       "<style scoped>\n",
       "    .dataframe tbody tr th:only-of-type {\n",
       "        vertical-align: middle;\n",
       "    }\n",
       "\n",
       "    .dataframe tbody tr th {\n",
       "        vertical-align: top;\n",
       "    }\n",
       "\n",
       "    .dataframe thead th {\n",
       "        text-align: right;\n",
       "    }\n",
       "</style>\n",
       "<table border=\"1\" class=\"dataframe\">\n",
       "  <thead>\n",
       "    <tr style=\"text-align: right;\">\n",
       "      <th></th>\n",
       "      <th>criterion</th>\n",
       "      <th>max_depth</th>\n",
       "      <th>min_samples_leaf</th>\n",
       "      <th>split0_test_score</th>\n",
       "      <th>split1_test_score</th>\n",
       "      <th>split2_test_score</th>\n",
       "      <th>split3_test_score</th>\n",
       "      <th>split4_test_score</th>\n",
       "      <th>model_type</th>\n",
       "    </tr>\n",
       "  </thead>\n",
       "  <tbody>\n",
       "    <tr>\n",
       "      <th>0</th>\n",
       "      <td>gini</td>\n",
       "      <td>NaN</td>\n",
       "      <td>1</td>\n",
       "      <td>0.616713</td>\n",
       "      <td>0.615727</td>\n",
       "      <td>0.612999</td>\n",
       "      <td>0.617447</td>\n",
       "      <td>0.617922</td>\n",
       "      <td>decision_tree</td>\n",
       "    </tr>\n",
       "    <tr>\n",
       "      <th>1</th>\n",
       "      <td>gini</td>\n",
       "      <td>NaN</td>\n",
       "      <td>3</td>\n",
       "      <td>0.622063</td>\n",
       "      <td>0.622650</td>\n",
       "      <td>0.621287</td>\n",
       "      <td>0.623846</td>\n",
       "      <td>0.623670</td>\n",
       "      <td>decision_tree</td>\n",
       "    </tr>\n",
       "  </tbody>\n",
       "</table>\n",
       "</div>"
      ],
      "text/plain": [
       "  criterion  max_depth  min_samples_leaf  split0_test_score  \\\n",
       "0      gini        NaN                 1           0.616713   \n",
       "1      gini        NaN                 3           0.622063   \n",
       "\n",
       "   split1_test_score  split2_test_score  split3_test_score  split4_test_score  \\\n",
       "0           0.615727           0.612999           0.617447           0.617922   \n",
       "1           0.622650           0.621287           0.623846           0.623670   \n",
       "\n",
       "      model_type  \n",
       "0  decision_tree  \n",
       "1  decision_tree  "
      ]
     },
     "execution_count": 40,
     "metadata": {},
     "output_type": "execute_result"
    }
   ],
   "source": [
    "splits = [col for col in results.keys() if 'split' in col]\n",
    "chopped = pd.concat([params, results_df_init[splits]], axis=1)\n",
    "chopped['model_type'] = 'decision_tree'\n",
    "chopped.head(2)"
   ]
  },
  {
   "cell_type": "markdown",
   "id": "3fc72510",
   "metadata": {},
   "source": [
    "<div style='background-color:orange'>\n",
    "<a id=\"dtc\"></a>\n",
    "    <h1 style='text-align:center ; top-padding:5px'>\n",
    "        <b><i>\n",
    "            DTC\n",
    "        </i></b></h1>\n",
    "    <li><a href='#TableOfContents'>Table of Contents</a>\n",
    "    </li>\n",
    "</div>"
   ]
  },
  {
   "cell_type": "code",
   "execution_count": null,
   "id": "38a01725",
   "metadata": {},
   "outputs": [],
   "source": [
    "# DTC Params grid\n",
    "dtc = DecisionTreeClassifier()\n",
    "dtc_params = {\n",
    "    \n",
    "}\n"
   ]
  },
  {
   "cell_type": "markdown",
   "id": "56c707c4",
   "metadata": {},
   "source": [
    "<div style='background-color:orange'>\n",
    "<a id=\"rfc\"></a>\n",
    "    <h1 style='text-align:center ; top-padding:5px'>\n",
    "        <b><i>\n",
    "            RFC\n",
    "        </i></b></h1>\n",
    "    <li><a href='#TableOfContents'>Table of Contents</a>\n",
    "    </li>\n",
    "</div>"
   ]
  },
  {
   "cell_type": "code",
   "execution_count": null,
   "id": "2de9bf76",
   "metadata": {},
   "outputs": [],
   "source": []
  },
  {
   "cell_type": "markdown",
   "id": "48b29d18",
   "metadata": {},
   "source": [
    "<div style='background-color:orange'>\n",
    "<a id=\"knn\"></a>\n",
    "    <h1 style='text-align:center ; top-padding:5px'>\n",
    "        <b><i>\n",
    "            KNN\n",
    "        </i></b></h1>\n",
    "    <li><a href='#TableOfContents'>Table of Contents</a>\n",
    "    </li>\n",
    "</div>"
   ]
  },
  {
   "cell_type": "code",
   "execution_count": null,
   "id": "88c57a87",
   "metadata": {},
   "outputs": [],
   "source": []
  },
  {
   "cell_type": "markdown",
   "id": "1944f8c6",
   "metadata": {},
   "source": [
    "<div style='background-color:orange'>\n",
    "<a id=\"lr\"></a>\n",
    "    <h1 style='text-align:center ; top-padding:5px'>\n",
    "        <b><i>\n",
    "            LR\n",
    "        </i></b></h1>\n",
    "    <li><a href='#TableOfContents'>Table of Contents</a>\n",
    "    </li>\n",
    "</div>"
   ]
  },
  {
   "cell_type": "code",
   "execution_count": null,
   "id": "3565b3b4",
   "metadata": {},
   "outputs": [],
   "source": []
  },
  {
   "cell_type": "markdown",
   "id": "df3853ba",
   "metadata": {},
   "source": [
    "<div style='background-color:orange'>\n",
    "<a id=\"misc\"></a>\n",
    "    <h1 style='text-align:center ; top-padding:5px'>\n",
    "        <b><i>\n",
    "            Miscellaneous\n",
    "        </i></b></h1>\n",
    "    <li><a href='#TableOfContents'>Table of Contents</a>\n",
    "    </li>\n",
    "</div>"
   ]
  },
  {
   "cell_type": "code",
   "execution_count": null,
   "id": "4368ea77",
   "metadata": {},
   "outputs": [],
   "source": []
  }
 ],
 "metadata": {
  "kernelspec": {
   "display_name": "Python 3 (ipykernel)",
   "language": "python",
   "name": "python3"
  },
  "language_info": {
   "codemirror_mode": {
    "name": "ipython",
    "version": 3
   },
   "file_extension": ".py",
   "mimetype": "text/x-python",
   "name": "python",
   "nbconvert_exporter": "python",
   "pygments_lexer": "ipython3",
   "version": "3.9.13"
  }
 },
 "nbformat": 4,
 "nbformat_minor": 5
}
